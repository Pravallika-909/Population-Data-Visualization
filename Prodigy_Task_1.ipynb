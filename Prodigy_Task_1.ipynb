{
  "nbformat": 4,
  "nbformat_minor": 0,
  "metadata": {
    "colab": {
      "provenance": []
    },
    "kernelspec": {
      "name": "python3",
      "display_name": "Python 3"
    },
    "language_info": {
      "name": "python"
    }
  },
  "cells": [
    {
      "cell_type": "code",
      "execution_count": null,
      "metadata": {
        "id": "xn0GdjD3DYCv"
      },
      "outputs": [],
      "source": [
        "import numpy as np\n",
        "import pandas as pd\n",
        "import matplotlib.pyplot as plt\n",
        "import seaborn as sns"
      ]
    },
    {
      "cell_type": "code",
      "source": [
        "df = pd.read_csv('/content/world_population_data.csv')"
      ],
      "metadata": {
        "id": "Fh7gn6bKFEbR"
      },
      "execution_count": null,
      "outputs": []
    },
    {
      "cell_type": "code",
      "source": [
        "df.head()"
      ],
      "metadata": {
        "colab": {
          "base_uri": "https://localhost:8080/",
          "height": 261
        },
        "id": "4h1kGuLLFU11",
        "outputId": "94ac38d3-427f-4fae-c446-30b5212949a0"
      },
      "execution_count": null,
      "outputs": [
        {
          "output_type": "execute_result",
          "data": {
            "text/plain": [
              "   rank cca3        country      continent  2023 population  2022 population  \\\n",
              "0     1  IND          India           Asia       1428627663       1417173173   \n",
              "1     2  CHN          China           Asia       1425671352       1425887337   \n",
              "2     3  USA  United States  North America        339996563        338289857   \n",
              "3     4  IDN      Indonesia           Asia        277534122        275501339   \n",
              "4     5  PAK       Pakistan           Asia        240485658        235824862   \n",
              "\n",
              "   2020 population  2015 population  2010 population  2000 population  \\\n",
              "0       1396387127       1322866505       1240613620       1059633675   \n",
              "1       1424929781       1393715448       1348191368       1264099069   \n",
              "2        335942003        324607776        311182845        282398554   \n",
              "3        271857970        259091970        244016173        214072421   \n",
              "4        227196741        210969298        194454498        154369924   \n",
              "\n",
              "   1990 population  1980 population  1970 population  area (km²)  \\\n",
              "0        870452165        696828385        557501301   3287590.0   \n",
              "1       1153704252        982372466        822534450   9706961.0   \n",
              "2        248083732        223140018        200328340   9372610.0   \n",
              "3        182159874        148177096        115228394   1904569.0   \n",
              "4        115414069         80624057         59290872    881912.0   \n",
              "\n",
              "   density (km²) growth rate world percentage  \n",
              "0            481       0.81%           17.85%  \n",
              "1            151      -0.02%           17.81%  \n",
              "2             37       0.50%            4.25%  \n",
              "3            148       0.74%            3.47%  \n",
              "4            312       1.98%            3.00%  "
            ],
            "text/html": [
              "\n",
              "  <div id=\"df-79e2f825-9515-43cf-9bc6-b4587b017f7e\" class=\"colab-df-container\">\n",
              "    <div>\n",
              "<style scoped>\n",
              "    .dataframe tbody tr th:only-of-type {\n",
              "        vertical-align: middle;\n",
              "    }\n",
              "\n",
              "    .dataframe tbody tr th {\n",
              "        vertical-align: top;\n",
              "    }\n",
              "\n",
              "    .dataframe thead th {\n",
              "        text-align: right;\n",
              "    }\n",
              "</style>\n",
              "<table border=\"1\" class=\"dataframe\">\n",
              "  <thead>\n",
              "    <tr style=\"text-align: right;\">\n",
              "      <th></th>\n",
              "      <th>rank</th>\n",
              "      <th>cca3</th>\n",
              "      <th>country</th>\n",
              "      <th>continent</th>\n",
              "      <th>2023 population</th>\n",
              "      <th>2022 population</th>\n",
              "      <th>2020 population</th>\n",
              "      <th>2015 population</th>\n",
              "      <th>2010 population</th>\n",
              "      <th>2000 population</th>\n",
              "      <th>1990 population</th>\n",
              "      <th>1980 population</th>\n",
              "      <th>1970 population</th>\n",
              "      <th>area (km²)</th>\n",
              "      <th>density (km²)</th>\n",
              "      <th>growth rate</th>\n",
              "      <th>world percentage</th>\n",
              "    </tr>\n",
              "  </thead>\n",
              "  <tbody>\n",
              "    <tr>\n",
              "      <th>0</th>\n",
              "      <td>1</td>\n",
              "      <td>IND</td>\n",
              "      <td>India</td>\n",
              "      <td>Asia</td>\n",
              "      <td>1428627663</td>\n",
              "      <td>1417173173</td>\n",
              "      <td>1396387127</td>\n",
              "      <td>1322866505</td>\n",
              "      <td>1240613620</td>\n",
              "      <td>1059633675</td>\n",
              "      <td>870452165</td>\n",
              "      <td>696828385</td>\n",
              "      <td>557501301</td>\n",
              "      <td>3287590.0</td>\n",
              "      <td>481</td>\n",
              "      <td>0.81%</td>\n",
              "      <td>17.85%</td>\n",
              "    </tr>\n",
              "    <tr>\n",
              "      <th>1</th>\n",
              "      <td>2</td>\n",
              "      <td>CHN</td>\n",
              "      <td>China</td>\n",
              "      <td>Asia</td>\n",
              "      <td>1425671352</td>\n",
              "      <td>1425887337</td>\n",
              "      <td>1424929781</td>\n",
              "      <td>1393715448</td>\n",
              "      <td>1348191368</td>\n",
              "      <td>1264099069</td>\n",
              "      <td>1153704252</td>\n",
              "      <td>982372466</td>\n",
              "      <td>822534450</td>\n",
              "      <td>9706961.0</td>\n",
              "      <td>151</td>\n",
              "      <td>-0.02%</td>\n",
              "      <td>17.81%</td>\n",
              "    </tr>\n",
              "    <tr>\n",
              "      <th>2</th>\n",
              "      <td>3</td>\n",
              "      <td>USA</td>\n",
              "      <td>United States</td>\n",
              "      <td>North America</td>\n",
              "      <td>339996563</td>\n",
              "      <td>338289857</td>\n",
              "      <td>335942003</td>\n",
              "      <td>324607776</td>\n",
              "      <td>311182845</td>\n",
              "      <td>282398554</td>\n",
              "      <td>248083732</td>\n",
              "      <td>223140018</td>\n",
              "      <td>200328340</td>\n",
              "      <td>9372610.0</td>\n",
              "      <td>37</td>\n",
              "      <td>0.50%</td>\n",
              "      <td>4.25%</td>\n",
              "    </tr>\n",
              "    <tr>\n",
              "      <th>3</th>\n",
              "      <td>4</td>\n",
              "      <td>IDN</td>\n",
              "      <td>Indonesia</td>\n",
              "      <td>Asia</td>\n",
              "      <td>277534122</td>\n",
              "      <td>275501339</td>\n",
              "      <td>271857970</td>\n",
              "      <td>259091970</td>\n",
              "      <td>244016173</td>\n",
              "      <td>214072421</td>\n",
              "      <td>182159874</td>\n",
              "      <td>148177096</td>\n",
              "      <td>115228394</td>\n",
              "      <td>1904569.0</td>\n",
              "      <td>148</td>\n",
              "      <td>0.74%</td>\n",
              "      <td>3.47%</td>\n",
              "    </tr>\n",
              "    <tr>\n",
              "      <th>4</th>\n",
              "      <td>5</td>\n",
              "      <td>PAK</td>\n",
              "      <td>Pakistan</td>\n",
              "      <td>Asia</td>\n",
              "      <td>240485658</td>\n",
              "      <td>235824862</td>\n",
              "      <td>227196741</td>\n",
              "      <td>210969298</td>\n",
              "      <td>194454498</td>\n",
              "      <td>154369924</td>\n",
              "      <td>115414069</td>\n",
              "      <td>80624057</td>\n",
              "      <td>59290872</td>\n",
              "      <td>881912.0</td>\n",
              "      <td>312</td>\n",
              "      <td>1.98%</td>\n",
              "      <td>3.00%</td>\n",
              "    </tr>\n",
              "  </tbody>\n",
              "</table>\n",
              "</div>\n",
              "    <div class=\"colab-df-buttons\">\n",
              "\n",
              "  <div class=\"colab-df-container\">\n",
              "    <button class=\"colab-df-convert\" onclick=\"convertToInteractive('df-79e2f825-9515-43cf-9bc6-b4587b017f7e')\"\n",
              "            title=\"Convert this dataframe to an interactive table.\"\n",
              "            style=\"display:none;\">\n",
              "\n",
              "  <svg xmlns=\"http://www.w3.org/2000/svg\" height=\"24px\" viewBox=\"0 -960 960 960\">\n",
              "    <path d=\"M120-120v-720h720v720H120Zm60-500h600v-160H180v160Zm220 220h160v-160H400v160Zm0 220h160v-160H400v160ZM180-400h160v-160H180v160Zm440 0h160v-160H620v160ZM180-180h160v-160H180v160Zm440 0h160v-160H620v160Z\"/>\n",
              "  </svg>\n",
              "    </button>\n",
              "\n",
              "  <style>\n",
              "    .colab-df-container {\n",
              "      display:flex;\n",
              "      gap: 12px;\n",
              "    }\n",
              "\n",
              "    .colab-df-convert {\n",
              "      background-color: #E8F0FE;\n",
              "      border: none;\n",
              "      border-radius: 50%;\n",
              "      cursor: pointer;\n",
              "      display: none;\n",
              "      fill: #1967D2;\n",
              "      height: 32px;\n",
              "      padding: 0 0 0 0;\n",
              "      width: 32px;\n",
              "    }\n",
              "\n",
              "    .colab-df-convert:hover {\n",
              "      background-color: #E2EBFA;\n",
              "      box-shadow: 0px 1px 2px rgba(60, 64, 67, 0.3), 0px 1px 3px 1px rgba(60, 64, 67, 0.15);\n",
              "      fill: #174EA6;\n",
              "    }\n",
              "\n",
              "    .colab-df-buttons div {\n",
              "      margin-bottom: 4px;\n",
              "    }\n",
              "\n",
              "    [theme=dark] .colab-df-convert {\n",
              "      background-color: #3B4455;\n",
              "      fill: #D2E3FC;\n",
              "    }\n",
              "\n",
              "    [theme=dark] .colab-df-convert:hover {\n",
              "      background-color: #434B5C;\n",
              "      box-shadow: 0px 1px 3px 1px rgba(0, 0, 0, 0.15);\n",
              "      filter: drop-shadow(0px 1px 2px rgba(0, 0, 0, 0.3));\n",
              "      fill: #FFFFFF;\n",
              "    }\n",
              "  </style>\n",
              "\n",
              "    <script>\n",
              "      const buttonEl =\n",
              "        document.querySelector('#df-79e2f825-9515-43cf-9bc6-b4587b017f7e button.colab-df-convert');\n",
              "      buttonEl.style.display =\n",
              "        google.colab.kernel.accessAllowed ? 'block' : 'none';\n",
              "\n",
              "      async function convertToInteractive(key) {\n",
              "        const element = document.querySelector('#df-79e2f825-9515-43cf-9bc6-b4587b017f7e');\n",
              "        const dataTable =\n",
              "          await google.colab.kernel.invokeFunction('convertToInteractive',\n",
              "                                                    [key], {});\n",
              "        if (!dataTable) return;\n",
              "\n",
              "        const docLinkHtml = 'Like what you see? Visit the ' +\n",
              "          '<a target=\"_blank\" href=https://colab.research.google.com/notebooks/data_table.ipynb>data table notebook</a>'\n",
              "          + ' to learn more about interactive tables.';\n",
              "        element.innerHTML = '';\n",
              "        dataTable['output_type'] = 'display_data';\n",
              "        await google.colab.output.renderOutput(dataTable, element);\n",
              "        const docLink = document.createElement('div');\n",
              "        docLink.innerHTML = docLinkHtml;\n",
              "        element.appendChild(docLink);\n",
              "      }\n",
              "    </script>\n",
              "  </div>\n",
              "\n",
              "\n",
              "<div id=\"df-62a43314-574d-4eb3-a2e5-93d3d156b94d\">\n",
              "  <button class=\"colab-df-quickchart\" onclick=\"quickchart('df-62a43314-574d-4eb3-a2e5-93d3d156b94d')\"\n",
              "            title=\"Suggest charts\"\n",
              "            style=\"display:none;\">\n",
              "\n",
              "<svg xmlns=\"http://www.w3.org/2000/svg\" height=\"24px\"viewBox=\"0 0 24 24\"\n",
              "     width=\"24px\">\n",
              "    <g>\n",
              "        <path d=\"M19 3H5c-1.1 0-2 .9-2 2v14c0 1.1.9 2 2 2h14c1.1 0 2-.9 2-2V5c0-1.1-.9-2-2-2zM9 17H7v-7h2v7zm4 0h-2V7h2v10zm4 0h-2v-4h2v4z\"/>\n",
              "    </g>\n",
              "</svg>\n",
              "  </button>\n",
              "\n",
              "<style>\n",
              "  .colab-df-quickchart {\n",
              "      --bg-color: #E8F0FE;\n",
              "      --fill-color: #1967D2;\n",
              "      --hover-bg-color: #E2EBFA;\n",
              "      --hover-fill-color: #174EA6;\n",
              "      --disabled-fill-color: #AAA;\n",
              "      --disabled-bg-color: #DDD;\n",
              "  }\n",
              "\n",
              "  [theme=dark] .colab-df-quickchart {\n",
              "      --bg-color: #3B4455;\n",
              "      --fill-color: #D2E3FC;\n",
              "      --hover-bg-color: #434B5C;\n",
              "      --hover-fill-color: #FFFFFF;\n",
              "      --disabled-bg-color: #3B4455;\n",
              "      --disabled-fill-color: #666;\n",
              "  }\n",
              "\n",
              "  .colab-df-quickchart {\n",
              "    background-color: var(--bg-color);\n",
              "    border: none;\n",
              "    border-radius: 50%;\n",
              "    cursor: pointer;\n",
              "    display: none;\n",
              "    fill: var(--fill-color);\n",
              "    height: 32px;\n",
              "    padding: 0;\n",
              "    width: 32px;\n",
              "  }\n",
              "\n",
              "  .colab-df-quickchart:hover {\n",
              "    background-color: var(--hover-bg-color);\n",
              "    box-shadow: 0 1px 2px rgba(60, 64, 67, 0.3), 0 1px 3px 1px rgba(60, 64, 67, 0.15);\n",
              "    fill: var(--button-hover-fill-color);\n",
              "  }\n",
              "\n",
              "  .colab-df-quickchart-complete:disabled,\n",
              "  .colab-df-quickchart-complete:disabled:hover {\n",
              "    background-color: var(--disabled-bg-color);\n",
              "    fill: var(--disabled-fill-color);\n",
              "    box-shadow: none;\n",
              "  }\n",
              "\n",
              "  .colab-df-spinner {\n",
              "    border: 2px solid var(--fill-color);\n",
              "    border-color: transparent;\n",
              "    border-bottom-color: var(--fill-color);\n",
              "    animation:\n",
              "      spin 1s steps(1) infinite;\n",
              "  }\n",
              "\n",
              "  @keyframes spin {\n",
              "    0% {\n",
              "      border-color: transparent;\n",
              "      border-bottom-color: var(--fill-color);\n",
              "      border-left-color: var(--fill-color);\n",
              "    }\n",
              "    20% {\n",
              "      border-color: transparent;\n",
              "      border-left-color: var(--fill-color);\n",
              "      border-top-color: var(--fill-color);\n",
              "    }\n",
              "    30% {\n",
              "      border-color: transparent;\n",
              "      border-left-color: var(--fill-color);\n",
              "      border-top-color: var(--fill-color);\n",
              "      border-right-color: var(--fill-color);\n",
              "    }\n",
              "    40% {\n",
              "      border-color: transparent;\n",
              "      border-right-color: var(--fill-color);\n",
              "      border-top-color: var(--fill-color);\n",
              "    }\n",
              "    60% {\n",
              "      border-color: transparent;\n",
              "      border-right-color: var(--fill-color);\n",
              "    }\n",
              "    80% {\n",
              "      border-color: transparent;\n",
              "      border-right-color: var(--fill-color);\n",
              "      border-bottom-color: var(--fill-color);\n",
              "    }\n",
              "    90% {\n",
              "      border-color: transparent;\n",
              "      border-bottom-color: var(--fill-color);\n",
              "    }\n",
              "  }\n",
              "</style>\n",
              "\n",
              "  <script>\n",
              "    async function quickchart(key) {\n",
              "      const quickchartButtonEl =\n",
              "        document.querySelector('#' + key + ' button');\n",
              "      quickchartButtonEl.disabled = true;  // To prevent multiple clicks.\n",
              "      quickchartButtonEl.classList.add('colab-df-spinner');\n",
              "      try {\n",
              "        const charts = await google.colab.kernel.invokeFunction(\n",
              "            'suggestCharts', [key], {});\n",
              "      } catch (error) {\n",
              "        console.error('Error during call to suggestCharts:', error);\n",
              "      }\n",
              "      quickchartButtonEl.classList.remove('colab-df-spinner');\n",
              "      quickchartButtonEl.classList.add('colab-df-quickchart-complete');\n",
              "    }\n",
              "    (() => {\n",
              "      let quickchartButtonEl =\n",
              "        document.querySelector('#df-62a43314-574d-4eb3-a2e5-93d3d156b94d button');\n",
              "      quickchartButtonEl.style.display =\n",
              "        google.colab.kernel.accessAllowed ? 'block' : 'none';\n",
              "    })();\n",
              "  </script>\n",
              "</div>\n",
              "\n",
              "    </div>\n",
              "  </div>\n"
            ],
            "application/vnd.google.colaboratory.intrinsic+json": {
              "type": "dataframe",
              "variable_name": "df",
              "summary": "{\n  \"name\": \"df\",\n  \"rows\": 234,\n  \"fields\": [\n    {\n      \"column\": \"rank\",\n      \"properties\": {\n        \"dtype\": \"number\",\n        \"std\": 67,\n        \"min\": 1,\n        \"max\": 234,\n        \"num_unique_values\": 234,\n        \"samples\": [\n          70,\n          207,\n          181\n        ],\n        \"semantic_type\": \"\",\n        \"description\": \"\"\n      }\n    },\n    {\n      \"column\": \"cca3\",\n      \"properties\": {\n        \"dtype\": \"string\",\n        \"num_unique_values\": 234,\n        \"samples\": [\n          \"GTM\",\n          \"GGY\",\n          \"MYT\"\n        ],\n        \"semantic_type\": \"\",\n        \"description\": \"\"\n      }\n    },\n    {\n      \"column\": \"country\",\n      \"properties\": {\n        \"dtype\": \"string\",\n        \"num_unique_values\": 234,\n        \"samples\": [\n          \"Guatemala\",\n          \"Guernsey\",\n          \"Mayotte\"\n        ],\n        \"semantic_type\": \"\",\n        \"description\": \"\"\n      }\n    },\n    {\n      \"column\": \"continent\",\n      \"properties\": {\n        \"dtype\": \"category\",\n        \"num_unique_values\": 6,\n        \"samples\": [\n          \"Asia\",\n          \"North America\",\n          \"Oceania\"\n        ],\n        \"semantic_type\": \"\",\n        \"description\": \"\"\n      }\n    },\n    {\n      \"column\": \"2023 population\",\n      \"properties\": {\n        \"dtype\": \"number\",\n        \"std\": 137386405,\n        \"min\": 518,\n        \"max\": 1428627663,\n        \"num_unique_values\": 234,\n        \"samples\": [\n          18092026,\n          63544,\n          335995\n        ],\n        \"semantic_type\": \"\",\n        \"description\": \"\"\n      }\n    },\n    {\n      \"column\": \"2022 population\",\n      \"properties\": {\n        \"dtype\": \"number\",\n        \"std\": 136766424,\n        \"min\": 510,\n        \"max\": 1425887337,\n        \"num_unique_values\": 234,\n        \"samples\": [\n          17843908,\n          63301,\n          326101\n        ],\n        \"semantic_type\": \"\",\n        \"description\": \"\"\n      }\n    },\n    {\n      \"column\": \"2020 population\",\n      \"properties\": {\n        \"dtype\": \"number\",\n        \"std\": 135589876,\n        \"min\": 520,\n        \"max\": 1424929781,\n        \"num_unique_values\": 234,\n        \"samples\": [\n          17362718,\n          62794,\n          305587\n        ],\n        \"semantic_type\": \"\",\n        \"description\": \"\"\n      }\n    },\n    {\n      \"column\": \"2015 population\",\n      \"properties\": {\n        \"dtype\": \"number\",\n        \"std\": 130404992,\n        \"min\": 564,\n        \"max\": 1393715448,\n        \"num_unique_values\": 234,\n        \"samples\": [\n          16001107,\n          61629,\n          249545\n        ],\n        \"semantic_type\": \"\",\n        \"description\": \"\"\n      }\n    },\n    {\n      \"column\": \"2010 population\",\n      \"properties\": {\n        \"dtype\": \"number\",\n        \"std\": 124218487,\n        \"min\": 596,\n        \"max\": 1348191368,\n        \"num_unique_values\": 234,\n        \"samples\": [\n          14543121,\n          60782,\n          211786\n        ],\n        \"semantic_type\": \"\",\n        \"description\": \"\"\n      }\n    },\n    {\n      \"column\": \"2000 population\",\n      \"properties\": {\n        \"dtype\": \"number\",\n        \"std\": 111698206,\n        \"min\": 651,\n        \"max\": 1264099069,\n        \"num_unique_values\": 234,\n        \"samples\": [\n          11735894,\n          59114,\n          159215\n        ],\n        \"semantic_type\": \"\",\n        \"description\": \"\"\n      }\n    },\n    {\n      \"column\": \"1990 population\",\n      \"properties\": {\n        \"dtype\": \"number\",\n        \"std\": 97832173,\n        \"min\": 700,\n        \"max\": 1153704252,\n        \"num_unique_values\": 234,\n        \"samples\": [\n          9084780,\n          57727,\n          92659\n        ],\n        \"semantic_type\": \"\",\n        \"description\": \"\"\n      }\n    },\n    {\n      \"column\": \"1980 population\",\n      \"properties\": {\n        \"dtype\": \"number\",\n        \"std\": 81785186,\n        \"min\": 733,\n        \"max\": 982372466,\n        \"num_unique_values\": 234,\n        \"samples\": [\n          6987767,\n          52860,\n          52233\n        ],\n        \"semantic_type\": \"\",\n        \"description\": \"\"\n      }\n    },\n    {\n      \"column\": \"1970 population\",\n      \"properties\": {\n        \"dtype\": \"number\",\n        \"std\": 67795091,\n        \"min\": 752,\n        \"max\": 822534450,\n        \"num_unique_values\": 234,\n        \"samples\": [\n          5453208,\n          52656,\n          35383\n        ],\n        \"semantic_type\": \"\",\n        \"description\": \"\"\n      }\n    },\n    {\n      \"column\": \"area (km\\u00b2)\",\n      \"properties\": {\n        \"dtype\": \"number\",\n        \"std\": 1761840.6656089202,\n        \"min\": 0.44,\n        \"max\": 17098242.0,\n        \"num_unique_values\": 232,\n        \"samples\": [\n          53.0,\n          1284000.0,\n          1964375.0\n        ],\n        \"semantic_type\": \"\",\n        \"description\": \"\"\n      }\n    },\n    {\n      \"column\": \"density (km\\u00b2)\",\n      \"properties\": {\n        \"dtype\": \"number\",\n        \"std\": 1979,\n        \"min\": 0,\n        \"max\": 21403,\n        \"num_unique_values\": 167,\n        \"samples\": [\n          2,\n          77,\n          23\n        ],\n        \"semantic_type\": \"\",\n        \"description\": \"\"\n      }\n    },\n    {\n      \"column\": \"growth rate\",\n      \"properties\": {\n        \"dtype\": \"string\",\n        \"num_unique_values\": 176,\n        \"samples\": [\n          \"0.15%\",\n          \"1.93%\",\n          \"1.11%\"\n        ],\n        \"semantic_type\": \"\",\n        \"description\": \"\"\n      }\n    },\n    {\n      \"column\": \"world percentage\",\n      \"properties\": {\n        \"dtype\": \"category\",\n        \"num_unique_values\": 73,\n        \"samples\": [\n          \"3.00%\",\n          \"0.09%\",\n          \"1.04%\"\n        ],\n        \"semantic_type\": \"\",\n        \"description\": \"\"\n      }\n    }\n  ]\n}"
            }
          },
          "metadata": {},
          "execution_count": 5
        }
      ]
    },
    {
      "cell_type": "code",
      "source": [
        "df.shape"
      ],
      "metadata": {
        "colab": {
          "base_uri": "https://localhost:8080/"
        },
        "id": "rAhsl1vVFbpw",
        "outputId": "0a797e4b-c5d3-40a6-cc63-dcd41d42cfde"
      },
      "execution_count": null,
      "outputs": [
        {
          "output_type": "execute_result",
          "data": {
            "text/plain": [
              "(234, 17)"
            ]
          },
          "metadata": {},
          "execution_count": 6
        }
      ]
    },
    {
      "cell_type": "code",
      "source": [
        "df.isna().sum()"
      ],
      "metadata": {
        "colab": {
          "base_uri": "https://localhost:8080/",
          "height": 617
        },
        "id": "pdoyvZ8ZIJYE",
        "outputId": "b364eed2-56ce-49bd-c0ee-6260999ccfb6"
      },
      "execution_count": null,
      "outputs": [
        {
          "output_type": "execute_result",
          "data": {
            "text/plain": [
              "rank                0\n",
              "cca3                0\n",
              "country             0\n",
              "continent           0\n",
              "2023 population     0\n",
              "2022 population     0\n",
              "2020 population     0\n",
              "2015 population     0\n",
              "2010 population     0\n",
              "2000 population     0\n",
              "1990 population     0\n",
              "1980 population     0\n",
              "1970 population     0\n",
              "area (km²)          0\n",
              "density (km²)       0\n",
              "growth rate         0\n",
              "world percentage    0\n",
              "dtype: int64"
            ],
            "text/html": [
              "<div>\n",
              "<style scoped>\n",
              "    .dataframe tbody tr th:only-of-type {\n",
              "        vertical-align: middle;\n",
              "    }\n",
              "\n",
              "    .dataframe tbody tr th {\n",
              "        vertical-align: top;\n",
              "    }\n",
              "\n",
              "    .dataframe thead th {\n",
              "        text-align: right;\n",
              "    }\n",
              "</style>\n",
              "<table border=\"1\" class=\"dataframe\">\n",
              "  <thead>\n",
              "    <tr style=\"text-align: right;\">\n",
              "      <th></th>\n",
              "      <th>0</th>\n",
              "    </tr>\n",
              "  </thead>\n",
              "  <tbody>\n",
              "    <tr>\n",
              "      <th>rank</th>\n",
              "      <td>0</td>\n",
              "    </tr>\n",
              "    <tr>\n",
              "      <th>cca3</th>\n",
              "      <td>0</td>\n",
              "    </tr>\n",
              "    <tr>\n",
              "      <th>country</th>\n",
              "      <td>0</td>\n",
              "    </tr>\n",
              "    <tr>\n",
              "      <th>continent</th>\n",
              "      <td>0</td>\n",
              "    </tr>\n",
              "    <tr>\n",
              "      <th>2023 population</th>\n",
              "      <td>0</td>\n",
              "    </tr>\n",
              "    <tr>\n",
              "      <th>2022 population</th>\n",
              "      <td>0</td>\n",
              "    </tr>\n",
              "    <tr>\n",
              "      <th>2020 population</th>\n",
              "      <td>0</td>\n",
              "    </tr>\n",
              "    <tr>\n",
              "      <th>2015 population</th>\n",
              "      <td>0</td>\n",
              "    </tr>\n",
              "    <tr>\n",
              "      <th>2010 population</th>\n",
              "      <td>0</td>\n",
              "    </tr>\n",
              "    <tr>\n",
              "      <th>2000 population</th>\n",
              "      <td>0</td>\n",
              "    </tr>\n",
              "    <tr>\n",
              "      <th>1990 population</th>\n",
              "      <td>0</td>\n",
              "    </tr>\n",
              "    <tr>\n",
              "      <th>1980 population</th>\n",
              "      <td>0</td>\n",
              "    </tr>\n",
              "    <tr>\n",
              "      <th>1970 population</th>\n",
              "      <td>0</td>\n",
              "    </tr>\n",
              "    <tr>\n",
              "      <th>area (km²)</th>\n",
              "      <td>0</td>\n",
              "    </tr>\n",
              "    <tr>\n",
              "      <th>density (km²)</th>\n",
              "      <td>0</td>\n",
              "    </tr>\n",
              "    <tr>\n",
              "      <th>growth rate</th>\n",
              "      <td>0</td>\n",
              "    </tr>\n",
              "    <tr>\n",
              "      <th>world percentage</th>\n",
              "      <td>0</td>\n",
              "    </tr>\n",
              "  </tbody>\n",
              "</table>\n",
              "</div><br><label><b>dtype:</b> int64</label>"
            ]
          },
          "metadata": {},
          "execution_count": 7
        }
      ]
    },
    {
      "cell_type": "code",
      "source": [
        "df.info()"
      ],
      "metadata": {
        "colab": {
          "base_uri": "https://localhost:8080/"
        },
        "id": "yicxaehWIP9r",
        "outputId": "1942946f-ca2e-4073-86e6-778a90cdaba1"
      },
      "execution_count": null,
      "outputs": [
        {
          "output_type": "stream",
          "name": "stdout",
          "text": [
            "<class 'pandas.core.frame.DataFrame'>\n",
            "RangeIndex: 234 entries, 0 to 233\n",
            "Data columns (total 17 columns):\n",
            " #   Column            Non-Null Count  Dtype  \n",
            "---  ------            --------------  -----  \n",
            " 0   rank              234 non-null    int64  \n",
            " 1   cca3              234 non-null    object \n",
            " 2   country           234 non-null    object \n",
            " 3   continent         234 non-null    object \n",
            " 4   2023 population   234 non-null    int64  \n",
            " 5   2022 population   234 non-null    int64  \n",
            " 6   2020 population   234 non-null    int64  \n",
            " 7   2015 population   234 non-null    int64  \n",
            " 8   2010 population   234 non-null    int64  \n",
            " 9   2000 population   234 non-null    int64  \n",
            " 10  1990 population   234 non-null    int64  \n",
            " 11  1980 population   234 non-null    int64  \n",
            " 12  1970 population   234 non-null    int64  \n",
            " 13  area (km²)        234 non-null    float64\n",
            " 14  density (km²)     234 non-null    int64  \n",
            " 15  growth rate       234 non-null    object \n",
            " 16  world percentage  234 non-null    object \n",
            "dtypes: float64(1), int64(11), object(5)\n",
            "memory usage: 31.2+ KB\n"
          ]
        }
      ]
    },
    {
      "cell_type": "code",
      "source": [
        "df['country'].unique()"
      ],
      "metadata": {
        "colab": {
          "base_uri": "https://localhost:8080/"
        },
        "id": "0hNeeZfjIR2e",
        "outputId": "f9ce88a6-198a-4244-9a92-2f52bf3077a1"
      },
      "execution_count": null,
      "outputs": [
        {
          "output_type": "execute_result",
          "data": {
            "text/plain": [
              "array(['India', 'China', 'United States', 'Indonesia', 'Pakistan',\n",
              "       'Nigeria', 'Brazil', 'Bangladesh', 'Russia', 'Mexico', 'Ethiopia',\n",
              "       'Japan', 'Philippines', 'Egypt', 'DR Congo', 'Vietnam', 'Iran',\n",
              "       'Turkey', 'Germany', 'Thailand', 'United Kingdom', 'Tanzania',\n",
              "       'France', 'South Africa', 'Italy', 'Kenya', 'Myanmar', 'Colombia',\n",
              "       'South Korea', 'Uganda', 'Sudan', 'Spain', 'Argentina', 'Algeria',\n",
              "       'Iraq', 'Afghanistan', 'Poland', 'Canada', 'Morocco',\n",
              "       'Saudi Arabia', 'Ukraine', 'Angola', 'Uzbekistan', 'Yemen', 'Peru',\n",
              "       'Malaysia', 'Ghana', 'Mozambique', 'Nepal', 'Madagascar',\n",
              "       'Ivory Coast', 'Venezuela', 'Cameroon', 'Niger', 'Australia',\n",
              "       'North Korea', 'Taiwan', 'Mali', 'Burkina Faso', 'Syria',\n",
              "       'Sri Lanka', 'Malawi', 'Zambia', 'Romania', 'Chile', 'Kazakhstan',\n",
              "       'Chad', 'Ecuador', 'Somalia', 'Guatemala', 'Senegal',\n",
              "       'Netherlands', 'Cambodia', 'Zimbabwe', 'Guinea', 'Rwanda', 'Benin',\n",
              "       'Burundi', 'Tunisia', 'Bolivia', 'Haiti', 'Belgium', 'Jordan',\n",
              "       'Dominican Republic', 'Cuba', 'South Sudan', 'Sweden', 'Honduras',\n",
              "       'Czech Republic', 'Azerbaijan', 'Greece', 'Papua New Guinea',\n",
              "       'Portugal', 'Hungary', 'Tajikistan', 'United Arab Emirates',\n",
              "       'Belarus', 'Israel', 'Togo', 'Austria', 'Switzerland',\n",
              "       'Sierra Leone', 'Laos', 'Hong Kong', 'Serbia', 'Nicaragua',\n",
              "       'Libya', 'Paraguay', 'Kyrgyzstan', 'Bulgaria', 'Turkmenistan',\n",
              "       'El Salvador', 'Republic of the Congo', 'Singapore', 'Denmark',\n",
              "       'Slovakia', 'Central African Republic', 'Finland', 'Norway',\n",
              "       'Liberia', 'Palestine', 'Lebanon', 'New Zealand', 'Costa Rica',\n",
              "       'Ireland', 'Mauritania', 'Oman', 'Panama', 'Kuwait', 'Croatia',\n",
              "       'Eritrea', 'Georgia', 'Mongolia', 'Moldova', 'Uruguay',\n",
              "       'Puerto Rico', 'Bosnia and Herzegovina', 'Albania', 'Jamaica',\n",
              "       'Armenia', 'Gambia', 'Lithuania', 'Qatar', 'Botswana', 'Namibia',\n",
              "       'Gabon', 'Lesotho', 'Guinea-Bissau', 'Slovenia', 'North Macedonia',\n",
              "       'Latvia', 'Equatorial Guinea', 'Trinidad and Tobago', 'Bahrain',\n",
              "       'Timor-Leste', 'Estonia', 'Mauritius', 'Cyprus', 'Eswatini',\n",
              "       'Djibouti', 'Reunion', 'Fiji', 'Comoros', 'Guyana', 'Bhutan',\n",
              "       'Solomon Islands', 'Macau', 'Luxembourg', 'Montenegro', 'Suriname',\n",
              "       'Cape Verde', 'Western Sahara', 'Malta', 'Maldives', 'Brunei',\n",
              "       'Bahamas', 'Belize', 'Guadeloupe', 'Iceland', 'Martinique',\n",
              "       'Mayotte', 'Vanuatu', 'French Guiana', 'French Polynesia',\n",
              "       'New Caledonia', 'Barbados', 'Sao Tome and Principe', 'Samoa',\n",
              "       'Curacao', 'Saint Lucia', 'Guam', 'Kiribati', 'Grenada',\n",
              "       'Micronesia', 'Jersey', 'Tonga', 'Seychelles', 'Aruba',\n",
              "       'Saint Vincent and the Grenadines', 'United States Virgin Islands',\n",
              "       'Antigua and Barbuda', 'Isle of Man', 'Andorra', 'Dominica',\n",
              "       'Cayman Islands', 'Bermuda', 'Guernsey', 'Greenland',\n",
              "       'Faroe Islands', 'Northern Mariana Islands',\n",
              "       'Saint Kitts and Nevis', 'Turks and Caicos Islands',\n",
              "       'Sint Maarten', 'American Samoa', 'Marshall Islands',\n",
              "       'Liechtenstein', 'Monaco', 'San Marino', 'Gibraltar',\n",
              "       'Saint Martin', 'British Virgin Islands', 'Palau', 'Cook Islands',\n",
              "       'Anguilla', 'Nauru', 'Wallis and Futuna', 'Tuvalu',\n",
              "       'Saint Barthelemy', 'Saint Pierre and Miquelon', 'Montserrat',\n",
              "       'Falkland Islands', 'Niue', 'Tokelau', 'Vatican City'],\n",
              "      dtype=object)"
            ]
          },
          "metadata": {},
          "execution_count": 9
        }
      ]
    },
    {
      "cell_type": "code",
      "source": [
        "df['continent'].unique()"
      ],
      "metadata": {
        "colab": {
          "base_uri": "https://localhost:8080/"
        },
        "id": "fC1XOvj3M4fq",
        "outputId": "c2ce8305-9a27-4ccf-8675-561a426a25c7"
      },
      "execution_count": null,
      "outputs": [
        {
          "output_type": "execute_result",
          "data": {
            "text/plain": [
              "array(['Asia', 'North America', 'Africa', 'South America', 'Europe',\n",
              "       'Oceania'], dtype=object)"
            ]
          },
          "metadata": {},
          "execution_count": 12
        }
      ]
    },
    {
      "cell_type": "code",
      "source": [
        "#In 1970 top 5 country population\n",
        "top_5 = df.head()\n",
        "\n",
        "sns.barplot(data = top_5, x='country',y='1970 population')"
      ],
      "metadata": {
        "colab": {
          "base_uri": "https://localhost:8080/",
          "height": 482
        },
        "id": "vgf8_Ri6I0kH",
        "outputId": "4eec553e-4490-4985-ba04-e854d907fcf5"
      },
      "execution_count": null,
      "outputs": [
        {
          "output_type": "execute_result",
          "data": {
            "text/plain": [
              "<Axes: xlabel='country', ylabel='1970 population'>"
            ]
          },
          "metadata": {},
          "execution_count": 10
        },
        {
          "output_type": "display_data",
          "data": {
            "text/plain": [
              "<Figure size 640x480 with 1 Axes>"
            ],
            "image/png": "[encoded data removed]"
          },
          "metadata": {}
        }
      ]
    },
    {
      "cell_type": "code",
      "source": [
        "top_5 = df.head()\n",
        "\n",
        "sns.barplot(data = top_5, x='country',y='2023 population')"
      ],
      "metadata": {
        "colab": {
          "base_uri": "https://localhost:8080/",
          "height": 482
        },
        "id": "9VAILlGNMuMx",
        "outputId": "977fb40f-596e-45f5-e919-84305397316b"
      },
      "execution_count": null,
      "outputs": [
        {
          "output_type": "execute_result",
          "data": {
            "text/plain": [
              "<Axes: xlabel='country', ylabel='2023 population'>"
            ]
          },
          "metadata": {},
          "execution_count": 11
        },
        {
          "output_type": "display_data",
          "data": {
            "text/plain": [
              "<Figure size 640x480 with 1 Axes>"
            ],
            "image/png": "[encoded data removed]"
          },
          "metadata": {}
        }
      ]
    },
    {
      "cell_type": "code",
      "source": [
        "top_5 = df.head()\n",
        "\n",
        "sns.barplot(data = df, x='continent',y='1970 population')"
      ],
      "metadata": {
        "colab": {
          "base_uri": "https://localhost:8080/",
          "height": 482
        },
        "id": "jKMVQICQM0RB",
        "outputId": "ba2853df-af3c-41b7-84a6-6b1aaef0361d"
      },
      "execution_count": null,
      "outputs": [
        {
          "output_type": "execute_result",
          "data": {
            "text/plain": [
              "<Axes: xlabel='continent', ylabel='1970 population'>"
            ]
          },
          "metadata": {},
          "execution_count": 13
        },
        {
          "output_type": "display_data",
          "data": {
            "text/plain": [
              "<Figure size 640x480 with 1 Axes>"
            ],
            "image/png": "[encoded data removed]"
          },
          "metadata": {}
        }
      ]
    },
    {
      "cell_type": "code",
      "source": [
        "sns.barplot(data = df, x='continent',y='2023 population')"
      ],
      "metadata": {
        "colab": {
          "base_uri": "https://localhost:8080/",
          "height": 482
        },
        "id": "DcmhFFskNTE5",
        "outputId": "e60bc8e1-ee8d-40ad-aae5-ac21044bd6e1"
      },
      "execution_count": null,
      "outputs": [
        {
          "output_type": "execute_result",
          "data": {
            "text/plain": [
              "<Axes: xlabel='continent', ylabel='2023 population'>"
            ]
          },
          "metadata": {},
          "execution_count": 16
        },
        {
          "output_type": "display_data",
          "data": {
            "text/plain": [
              "<Figure size 640x480 with 1 Axes>"
            ],
            "image/png": "[encoded data removed]"
          },
          "metadata": {}
        }
      ]
    }
  ]
}